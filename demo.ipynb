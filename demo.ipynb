{
 "cells": [
  {
   "cell_type": "markdown",
   "id": "a66981be-1218-4bbb-ab28-a52f847ff412",
   "metadata": {},
   "source": [
    "<h1>Chapter 1 Python</h1>"
   ]
  },
  {
   "cell_type": "code",
   "execution_count": 31,
   "id": "e93c9e30-2c1e-4586-b327-93ee0c932333",
   "metadata": {},
   "outputs": [
    {
     "name": "stdin",
     "output_type": "stream",
     "text": [
      "First number: 50\n",
      "Second number: 50\n"
     ]
    },
    {
     "name": "stdout",
     "output_type": "stream",
     "text": [
      "The result of the operation for 50 and 50\n",
      "Addition:100\n",
      "Subtration:0\n",
      "Multiplicartion:2500\n",
      "Division:1.0\n"
     ]
    }
   ],
   "source": [
    "num1 = int(input(\"First number:\"))\n",
    "num2 = int(input(\"Second number:\"))\n",
    "\n",
    "addition = num1 + num2\n",
    "subtraction = num1 - num2\n",
    "multiplication = num1 * num2\n",
    "division = num1/num2\n",
    "\n",
    "print(f\"The result of the operation for {num1} and {num2}\")\n",
    "print(f\"Addition:{addition}\")\n",
    "print(f\"Subtration:{subtraction}\")\n",
    "print(f\"Multiplicartion:{multiplication}\")\n",
    "print(f\"Division:{division}\")\n",
    "\n",
    "    "
   ]
  },
  {
   "cell_type": "code",
   "execution_count": 63,
   "id": "2cab9dcf-f51d-47fd-a589-ec3aaec4190f",
   "metadata": {},
   "outputs": [
    {
     "name": "stdin",
     "output_type": "stream",
     "text": [
      "temperature 21\n"
     ]
    },
    {
     "name": "stdout",
     "output_type": "stream",
     "text": [
      "69.8\n"
     ]
    }
   ],
   "source": [
    "celcius = float(input(\"temperature\"))\n",
    "fahrenheit = (celcius * 9/5) + 32\n",
    "print(f\"{fahrenheit}\")"
   ]
  },
  {
   "cell_type": "code",
   "execution_count": 59,
   "id": "a359e5fe-3700-43a0-907d-6590901c6b42",
   "metadata": {},
   "outputs": [
    {
     "name": "stdin",
     "output_type": "stream",
     "text": [
      "Enter basic salary:  2000\n",
      "Enter allowances:  200\n",
      "Enter deductions:  300\n"
     ]
    },
    {
     "name": "stdout",
     "output_type": "stream",
     "text": [
      "Net Monthly Salary: 1900.0\n"
     ]
    }
   ],
   "source": [
    "# Get input from the user and convert to float for calculations\n",
    "basic_salary = float(input(\"Enter basic salary: \"))\n",
    "allowances = float(input(\"Enter allowances: \"))\n",
    "deductions = float(input(\"Enter deductions: \"))\n",
    "\n",
    "# Calculate net monthly salary\n",
    "net_salary = basic_salary + allowances - deductions\n",
    "\n",
    "# Display the result\n",
    "print(f\"Net Monthly Salary: {net_salary}\")\n"
   ]
  },
  {
   "cell_type": "code",
   "execution_count": 82,
   "id": "b304373d-35b3-4764-a6f3-588959fe9b6b",
   "metadata": {},
   "outputs": [
    {
     "name": "stdin",
     "output_type": "stream",
     "text": [
      "Loan amount:  20000\n",
      "Annual interest rate (in %):  3.1\n",
      "Loan tenure (in years):  20\n"
     ]
    },
    {
     "name": "stdout",
     "output_type": "stream",
     "text": [
      "Monthly Installment (EMI): 111.92\n",
      "Total Interest Payable: 6861.61\n"
     ]
    }
   ],
   "source": [
    "# Get user input\n",
    "loan_amount = float(input(\"Loan amount: \"))\n",
    "annual_interest_rate = float(input(\"Annual interest rate (in %): \"))\n",
    "loan_tenure_years = float(input(\"Loan tenure (in years): \"))\n",
    "\n",
    "# Convert annual interest rate to monthly and tenure to months\n",
    "monthly_interest_rate = annual_interest_rate / 100 / 12\n",
    "loan_tenure_months = loan_tenure_years * 12\n",
    "\n",
    "# Calculate EMI (monthly installment)\n",
    "monthly_installment = (loan_amount * monthly_interest_rate * (1 + monthly_interest_rate) ** loan_tenure_months) / \\\n",
    "                      ((1 + monthly_interest_rate) ** loan_tenure_months - 1)\n",
    "\n",
    "# Calculate total interest payable\n",
    "total_interest = (monthly_installment * loan_tenure_months) - loan_amount\n",
    "\n",
    "# Output results\n",
    "print(f\"Monthly Installment (EMI): {monthly_installment:.2f}\")\n",
    "print(f\"Total Interest Payable: {total_interest:.2f}\")\n"
   ]
  },
  {
   "cell_type": "code",
   "execution_count": null,
   "id": "62ca9667-cb1d-446a-812f-a75f983e8dcb",
   "metadata": {},
   "outputs": [],
   "source": []
  }
 ],
 "metadata": {
  "kernelspec": {
   "display_name": "Python 3 (ipykernel)",
   "language": "python",
   "name": "python3"
  },
  "language_info": {
   "codemirror_mode": {
    "name": "ipython",
    "version": 3
   },
   "file_extension": ".py",
   "mimetype": "text/x-python",
   "name": "python",
   "nbconvert_exporter": "python",
   "pygments_lexer": "ipython3",
   "version": "3.12.7"
  }
 },
 "nbformat": 4,
 "nbformat_minor": 5
}
